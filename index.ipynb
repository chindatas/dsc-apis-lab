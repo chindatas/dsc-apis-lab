{
 "cells": [
  {
   "cell_type": "markdown",
   "metadata": {},
   "source": [
    "# APIs - Cumulative Lab\n",
    "\n",
    "\n",
    "## Introduction \n",
    "\n",
    "We've seen how the Yelp API works and how to create basic visualizations using Folium. It's time to put those skills to work in order to create a working map! Taking things a step further, you'll also independently explore how to perform pagination in order to retrieve a full results set from the Yelp API.\n",
    "\n",
    "## Objectives\n",
    "\n",
    "You will be able to: \n",
    "\n",
    "* Practice using functions to organize your code\n",
    "* Use pagination to retrieve all results from an API query\n",
    "* Practice parsing data returned from an API query\n",
    "* Practice interpreting visualizations of a dataset\n",
    "* Create maps using Folium"
   ]
  },
  {
   "cell_type": "markdown",
   "metadata": {},
   "source": [
    "## Your Task: Query Yelp for All Businesses in a Category and Analyze the Results\n",
    "\n",
    "![restaurant counter with pizza](images/restaurant_counter.jpg)\n",
    "\n",
    "Photo by <a href=\"https://unsplash.com/@jordanmadrid?utm_source=unsplash&utm_medium=referral&utm_content=creditCopyText\">Jordan Madrid</a> on <a href=\"/s/photos/pizza-restaurant?utm_source=unsplash&utm_medium=referral&utm_content=creditCopyText\">Unsplash</a>"
   ]
  },
  {
   "cell_type": "markdown",
   "metadata": {},
   "source": [
    "### Overview\n",
    "\n",
    "You've now worked with some API calls, but we have yet to see how to retrieve a more complete dataset in a programmatic manner. In this lab, you will write a query of businesses on Yelp, then use *pagination* to retrieve all possible results for that query. Then you will create a summary of your findings, including a Folium map of the geographic locations of those businesses.\n",
    "\n",
    "### Technical Details\n",
    "\n",
    "Returning to the Yelp API, the [documentation](https://www.yelp.com/developers/documentation/v3/business_search) also provides us details regarding the **API limits**. These often include details about the number of requests a user is allowed to make within a specified time limit and the maximum number of results to be returned. In this case, we are told that any request has a **maximum of 50 results per request** and defaults to 20. Furthermore, any search will be limited to a **total of 1000 results**. To retrieve all 1000 of these results, we would have to page through the results piece by piece, retrieving 50 at a time. Processes such as these are often referred to as pagination.\n",
    "\n",
    "Also, be mindful of the **API** ***rate*** **limits**. You can only make **5000 requests per day** and are also can make requests too fast. Start prototyping small before running a loop that could be faulty. You can also use `time.sleep(n)` to add delays. For more details see https://www.yelp.com/developers/documentation/v3/rate_limiting.\n",
    "\n",
    "In this lab, you will define a search and then paginate over the results to retrieve all of the results. You'll then parse these responses as a list of dictionaries (for further exploration) and create a map using Folium to visualize the results geographically.\n",
    "\n",
    "### Requirements\n",
    "\n",
    "#### 1. Make the Initial Request\n",
    "\n",
    "Start by filling in your API key to make the initial request to the business search API. Investigate the structure of the response you get back and start figuring out how you will extract the relevant information.\n",
    "\n",
    "#### 2. Add Pagination\n",
    "\n",
    "Using loops and functions, collect the maximum number of results for your query from the API.\n",
    "\n",
    "#### 3. Perform Exploratory Analysis\n",
    "\n",
    "Interpret visualizations related to the price range, average rating, and number of reviews for all query results.\n",
    "\n",
    "#### 4. Create a Folium Map\n",
    "\n",
    "Using latitude and longitude data, plot the query results on an interactive map."
   ]
  },
  {
   "cell_type": "markdown",
   "metadata": {},
   "source": [
    "## 1. Make the Initial Request\n",
    "\n",
    "### Querying\n",
    "\n",
    "Start by making an initial request to the Yelp API. Your search must include at least 2 parameters: **term** and **location**. For example, you might search for pizza restaurants in NYC. The term and location is up to you but make the request below.\n",
    "\n",
    "Use the `requests` library ([documentation here](https://requests.readthedocs.io/en/master/user/quickstart/#make-a-request)).\n",
    "\n",
    "You'll also need an API key from Yelp. If you haven't done this already, go to the Yelp [Manage App page](https://www.yelp.com/developers/v3/manage_app) and create a new app (after making an account if you haven't already)."
   ]
  },
  {
   "cell_type": "code",
   "execution_count": 1,
   "metadata": {},
   "outputs": [
    {
     "data": {
      "text/plain": [
       "<Response [200]>"
      ]
     },
     "execution_count": 1,
     "metadata": {},
     "output_type": "execute_result"
    }
   ],
   "source": [
    "# Replace None with appropriate code\n",
    "\n",
    "# Import the requests library\n",
    "import requests\n",
    "import json\n",
    "# Get this from the \"Manage App\" page. Make sure you set them\n",
    "# back to None before pushing this to GitHub, since otherwise\n",
    "# your credentials will be compromised\n",
    "def get_keys(path):\n",
    "    with open(path) as f:\n",
    "        return json.load(f)\n",
    "\n",
    "keys = get_keys(r\"c:\\users\\chickyrin\\.secret\\yelp_api.json\")\n",
    "\n",
    "api_key = keys['api_key']\n",
    "\n",
    "# These can be whatever you want! But the solution uses \"pizza\"\n",
    "# and \"New York NY\" if you want to compare your work directly\n",
    "term = \"pizza\"\n",
    "location = \"New York NY\"\n",
    "\n",
    "# Set up params for request\n",
    "url = \"https://api.yelp.com/v3/businesses/search\"\n",
    "headers = {\n",
    "    \"Authorization\": \"Bearer {}\".format(api_key)\n",
    "}\n",
    "url_params = {\n",
    "    \"term\": term.replace(\" \", \"+\"),\n",
    "    \"location\": location.replace(\" \", \"+\")\n",
    "}\n",
    "\n",
    "# Make the request using requests.get, passing in\n",
    "# url, headers=headers, and params=url_params\n",
    "response = requests.get(url, headers=headers, params=url_params)\n",
    "\n",
    "# Confirm we got a 200 response\n",
    "response"
   ]
  },
  {
   "cell_type": "code",
   "execution_count": 2,
   "metadata": {},
   "outputs": [
    {
     "data": {
      "text/plain": [
       "dict_keys(['businesses', 'total', 'region'])"
      ]
     },
     "execution_count": 2,
     "metadata": {},
     "output_type": "execute_result"
    }
   ],
   "source": [
    "# Run this cell without changes\n",
    "\n",
    "# Get the response body in JSON format\n",
    "response_json = response.json()\n",
    "# View the keys\n",
    "response_json.keys()"
   ]
  },
  {
   "cell_type": "markdown",
   "metadata": {},
   "source": [
    "### Extracting Data\n",
    "\n",
    "Now, retrieve the value associated with the `'businesses'` key, and inspect its contents."
   ]
  },
  {
   "cell_type": "code",
   "execution_count": 3,
   "metadata": {},
   "outputs": [
    {
     "data": {
      "text/plain": [
       "[{'id': 'zj8Lq1T8KIC5zwFief15jg',\n",
       "  'alias': 'prince-street-pizza-new-york-2',\n",
       "  'name': 'Prince Street Pizza',\n",
       "  'image_url': 'https://s3-media3.fl.yelpcdn.com/bphoto/ZAukOyv530w4KjOHC5YY1w/o.jpg',\n",
       "  'is_closed': False,\n",
       "  'url': 'https://www.yelp.com/biz/prince-street-pizza-new-york-2?adjust_creative=_0JUTYjkQVRGY6yaFEwavw&utm_campaign=yelp_api_v3&utm_medium=api_v3_business_search&utm_source=_0JUTYjkQVRGY6yaFEwavw',\n",
       "  'review_count': 4283,\n",
       "  'categories': [{'alias': 'pizza', 'title': 'Pizza'},\n",
       "   {'alias': 'italian', 'title': 'Italian'}],\n",
       "  'rating': 4.5,\n",
       "  'coordinates': {'latitude': 40.72308755605564,\n",
       "   'longitude': -73.99453001177575},\n",
       "  'transactions': ['delivery', 'pickup'],\n",
       "  'price': '$',\n",
       "  'location': {'address1': '27 Prince St',\n",
       "   'address2': None,\n",
       "   'address3': '',\n",
       "   'city': 'New York',\n",
       "   'zip_code': '10012',\n",
       "   'country': 'US',\n",
       "   'state': 'NY',\n",
       "   'display_address': ['27 Prince St', 'New York, NY 10012']},\n",
       "  'phone': '+12129664100',\n",
       "  'display_phone': '(212) 966-4100',\n",
       "  'distance': 1961.8771417367063},\n",
       " {'id': 'ysqgdbSrezXgVwER2kQWKA',\n",
       "  'alias': 'julianas-brooklyn-3',\n",
       "  'name': \"Juliana's\",\n",
       "  'image_url': 'https://s3-media2.fl.yelpcdn.com/bphoto/clscwgOF9_Ecq-Rwsq7jyQ/o.jpg',\n",
       "  'is_closed': False,\n",
       "  'url': 'https://www.yelp.com/biz/julianas-brooklyn-3?adjust_creative=_0JUTYjkQVRGY6yaFEwavw&utm_campaign=yelp_api_v3&utm_medium=api_v3_business_search&utm_source=_0JUTYjkQVRGY6yaFEwavw',\n",
       "  'review_count': 2423,\n",
       "  'categories': [{'alias': 'pizza', 'title': 'Pizza'}],\n",
       "  'rating': 4.5,\n",
       "  'coordinates': {'latitude': 40.70274718768062,\n",
       "   'longitude': -73.99343490196397},\n",
       "  'transactions': ['delivery'],\n",
       "  'price': '$$',\n",
       "  'location': {'address1': '19 Old Fulton St',\n",
       "   'address2': '',\n",
       "   'address3': '',\n",
       "   'city': 'Brooklyn',\n",
       "   'zip_code': '11201',\n",
       "   'country': 'US',\n",
       "   'state': 'NY',\n",
       "   'display_address': ['19 Old Fulton St', 'Brooklyn, NY 11201']},\n",
       "  'phone': '+17185966700',\n",
       "  'display_phone': '(718) 596-6700',\n",
       "  'distance': 308.56984360837544}]"
      ]
     },
     "execution_count": 3,
     "metadata": {},
     "output_type": "execute_result"
    }
   ],
   "source": [
    "# Replace None with appropriate code\n",
    "\n",
    "# Retrieve the value from response_json\n",
    "businesses = response_json['businesses']\n",
    "\n",
    "# View the first 2 records\n",
    "businesses[:2]"
   ]
  },
  {
   "cell_type": "markdown",
   "metadata": {},
   "source": [
    "### Preparing Data\n",
    "\n",
    "Write a function `prepare_data` that takes in a list of dictionaries like `businesses` and returns a copy that has been prepared for analysis:\n",
    "\n",
    "1. The `coordinates` key-value pair has been converted into two separate key-value pairs, `latitude` and `longitude`\n",
    "2. All other key-value pairs except for `name`, `review_count`, `rating`, and `price` have been dropped\n",
    "3. All dictionaries missing one of the relevant keys or containing null values have been dropped\n",
    "\n",
    "In other words, the final keys for each dictionary should be `name`, `review_count`, `rating`, `price`, `latitude`, and `longitude`.\n",
    "\n",
    "Complete the function in the cell below:"
   ]
  },
  {
   "cell_type": "code",
   "execution_count": 4,
   "metadata": {},
   "outputs": [
    {
     "data": {
      "text/plain": [
       "[{'name': 'Prince Street Pizza',\n",
       "  'review_count': 4283,\n",
       "  'rating': 4.5,\n",
       "  'price': '$',\n",
       "  'latitude': 40.72308755605564,\n",
       "  'longitude': -73.99453001177575},\n",
       " {'name': \"Juliana's\",\n",
       "  'review_count': 2423,\n",
       "  'rating': 4.5,\n",
       "  'price': '$$',\n",
       "  'latitude': 40.70274718768062,\n",
       "  'longitude': -73.99343490196397},\n",
       " {'name': 'Rubirosa',\n",
       "  'review_count': 2614,\n",
       "  'rating': 4.5,\n",
       "  'price': '$$',\n",
       "  'latitude': 40.722766,\n",
       "  'longitude': -73.996233},\n",
       " {'name': \"Lombardi's Pizza\",\n",
       "  'review_count': 6297,\n",
       "  'rating': 4.0,\n",
       "  'price': '$$',\n",
       "  'latitude': 40.7215934960083,\n",
       "  'longitude': -73.9955956044561},\n",
       " {'name': \"Grimaldi's Pizzeria\",\n",
       "  'review_count': 4764,\n",
       "  'rating': 3.5,\n",
       "  'price': '$$',\n",
       "  'latitude': 40.702583,\n",
       "  'longitude': -73.9932413}]"
      ]
     },
     "execution_count": 4,
     "metadata": {},
     "output_type": "execute_result"
    }
   ],
   "source": [
    "# Replace None with appropriate code\n",
    "\n",
    "def prepare_data(data_list):\n",
    "    \"\"\"\n",
    "    This function takes in a list of dictionaries and prepares it\n",
    "    for analysis\n",
    "    \"\"\"\n",
    "    \n",
    "    # Make a new list to hold results\n",
    "    results = []\n",
    "    \n",
    "    for business_data in data_list:\n",
    "\n",
    "        # Make a new dictionary to hold prepared data for this business\n",
    "        prepared_data = {}\n",
    "        prepared_data.update({\"name\": business_data['name']})\n",
    "        prepared_data.update({\"review_count\": business_data['review_count']})\n",
    "        prepared_data.update({\"rating\": business_data['rating']})\n",
    "        try:\n",
    "            prepared_data.update({\"price\": business_data['price']})\n",
    "        except KeyError:\n",
    "            pass\n",
    "        \n",
    "        # Extract name, review_count, rating, and price key-value pairs\n",
    "        # from business_data and add to prepared_data\n",
    "        # If a key is not present in business_data, add it to prepared_data\n",
    "        # with an associated value of None\n",
    "        \n",
    "    \n",
    "        # Parse and add latitude and longitude columns\n",
    "        prepared_data.update({'latitude': business_data['coordinates']['latitude']})\n",
    "        prepared_data.update({'longitude': business_data['coordinates']['longitude']})\n",
    "        \n",
    "        # Add to list if all values are present\n",
    "        if all(prepared_data.values()):\n",
    "            results.append(prepared_data)\n",
    "    \n",
    "    return results\n",
    "    \n",
    "# Test out function\n",
    "prepared_businesses = prepare_data(businesses)\n",
    "prepared_businesses[:5]"
   ]
  },
  {
   "cell_type": "markdown",
   "metadata": {},
   "source": [
    "Check that your function created the correct keys:"
   ]
  },
  {
   "cell_type": "code",
   "execution_count": 5,
   "metadata": {},
   "outputs": [],
   "source": [
    "# Run this cell without changes\n",
    "\n",
    "assert sorted(list(prepared_businesses[0].keys())) == ['latitude', 'longitude', 'name', 'price', 'rating', 'review_count']"
   ]
  },
  {
   "cell_type": "markdown",
   "metadata": {},
   "source": [
    "The following code will differ depending on your query, but we expect there to be 20 businesses in the original list, and potentially fewer in the prepared list (if any of them were missing data):"
   ]
  },
  {
   "cell_type": "code",
   "execution_count": 6,
   "metadata": {},
   "outputs": [
    {
     "name": "stdout",
     "output_type": "stream",
     "text": [
      "Original: 20\n",
      "Prepared: 20\n"
     ]
    }
   ],
   "source": [
    "# Run this cell without changes\n",
    "print(\"Original:\", len(businesses))\n",
    "print(\"Prepared:\", len(prepared_businesses))"
   ]
  },
  {
   "cell_type": "markdown",
   "metadata": {},
   "source": [
    "Great! We will reuse this function once we have retrieved the full dataset."
   ]
  },
  {
   "cell_type": "markdown",
   "metadata": {},
   "source": [
    "## 2. Add Pagination\n",
    "\n",
    "Now that you are able to extract information from one page of the response, let's figure out how to request as many pages as possible.\n",
    "\n",
    "### Determining the Total\n",
    "\n",
    "Depending on the number of total results for your query, you will either retrieve all of the results, or just the first 1000 (if there are more than 1000 total).\n",
    "\n",
    "We can find the total number of results using the `\"total\"` key:"
   ]
  },
  {
   "cell_type": "code",
   "execution_count": 7,
   "metadata": {},
   "outputs": [
    {
     "data": {
      "text/plain": [
       "11900"
      ]
     },
     "execution_count": 7,
     "metadata": {},
     "output_type": "execute_result"
    }
   ],
   "source": [
    "# Run this cell without changes\n",
    "response_json[\"total\"]"
   ]
  },
  {
   "cell_type": "markdown",
   "metadata": {},
   "source": [
    "(This is specific to the implementation of the Yelp API. Some APIs will just tell you that there are more pages, or will tell you the number of pages total, rather than the total number of results. If you're not sure, always check the documentation.)\n",
    "\n",
    "In the cell below, assign the variable `total` to either the value shown above (if it is less than 1000), or 1000."
   ]
  },
  {
   "cell_type": "code",
   "execution_count": 29,
   "metadata": {},
   "outputs": [],
   "source": [
    "# Replace None with appropriate code\n",
    "total = 50"
   ]
  },
  {
   "cell_type": "markdown",
   "metadata": {},
   "source": [
    "### Calculating the Offsets\n",
    "\n",
    "The documentation states in the parameters section:\n",
    "\n",
    "> **Name**: `limit`, **Type:** int, **Description:** Optional. Number of business results to return. By default, it will return 20. Maximum is 50.\n",
    "\n",
    "> **Name**: `offset`, **Type:** int, **Description:** Optional. Offset the list of returned business results by this amount.\n",
    "\n",
    "So, to get the most results with the fewest API calls we want to set a limit of 50 every time. If, say, we wanted to get 210 total results, that would mean:\n",
    "\n",
    "1. Offset of `0` (first 50 records)\n",
    "2. Offset of `50` (second 50 records)\n",
    "3. Offset of `100` (third 50 records)\n",
    "4. Offset of `150` (fourth 50 records)\n",
    "5. Offset of `200` (final 10 records)\n",
    "\n",
    "In the cell below, create a function `get_offsets` that takes in a total and returns a list of offsets for that total. You can assume that there is a limit of 50 every time.\n",
    "\n",
    "*Hint: you can use `range` ([documentation here](https://docs.python.org/3.3/library/stdtypes.html?highlight=range#range)) to do this in one line of code. Just make the returned result is a list.*"
   ]
  },
  {
   "cell_type": "code",
   "execution_count": 30,
   "metadata": {},
   "outputs": [],
   "source": [
    "# Replace None with appropriate code\n",
    "def get_offsets(total):\n",
    "    \"\"\"\n",
    "    Get a list of offsets needed to get all pages\n",
    "    of data up until the total\n",
    "    \"\"\"\n",
    "    list = []\n",
    "    for x in range(total):\n",
    "        if x%50 == 0:\n",
    "            list.append(x)\n",
    "    return list"
   ]
  },
  {
   "cell_type": "markdown",
   "metadata": {},
   "source": [
    "Check that your function works below:"
   ]
  },
  {
   "cell_type": "code",
   "execution_count": 31,
   "metadata": {},
   "outputs": [],
   "source": [
    "# Run this cell without changes\n",
    "\n",
    "assert get_offsets(200) == [0, 50, 100, 150]\n",
    "assert get_offsets(210) == [0, 50, 100, 150, 200]"
   ]
  },
  {
   "cell_type": "markdown",
   "metadata": {},
   "source": [
    "### Putting It All Together\n",
    "\n",
    "Recall that the following variable has already been declared for you:"
   ]
  },
  {
   "cell_type": "code",
   "execution_count": 32,
   "metadata": {},
   "outputs": [
    {
     "data": {
      "text/plain": [
       "{'term': 'pizza', 'location': 'New+York+NY', 'limit': 50}"
      ]
     },
     "execution_count": 32,
     "metadata": {},
     "output_type": "execute_result"
    }
   ],
   "source": [
    "# Run this cell without changes\n",
    "url_params"
   ]
  },
  {
   "cell_type": "markdown",
   "metadata": {},
   "source": [
    "We'll go ahead and also specify that the limit should be 50 every time:"
   ]
  },
  {
   "cell_type": "code",
   "execution_count": 33,
   "metadata": {},
   "outputs": [],
   "source": [
    "# Run this cell without changes\n",
    "url_params[\"limit\"] = 50"
   ]
  },
  {
   "cell_type": "markdown",
   "metadata": {},
   "source": [
    "In order to modify the offset, you'll need to add it to `url_params` with the key `\"offset\"` and whatever value is needed.\n",
    "\n",
    "In the cell below, write code that:\n",
    "\n",
    "* Creates an empty list for the full prepared dataset\n",
    "* Loops over all of the offsets from `get_offsets` and makes an API call each time with the specified offset\n",
    "* Calls `prepare_data` to get a cleaned version of the result of each API call\n",
    "* Extends the full prepared dataset list with each query's prepared dataset"
   ]
  },
  {
   "cell_type": "code",
   "execution_count": 34,
   "metadata": {},
   "outputs": [
    {
     "name": "stdout",
     "output_type": "stream",
     "text": [
      "<Response [200]>\n"
     ]
    },
    {
     "data": {
      "text/plain": [
       "20"
      ]
     },
     "execution_count": 34,
     "metadata": {},
     "output_type": "execute_result"
    }
   ],
   "source": [
    "# Replace None with appropriate code\n",
    "import time\n",
    "# Create an empty list for the full prepared dataset\n",
    "full_dataset = []\n",
    "\n",
    "for offset in get_offsets(total):\n",
    "    # Add or update the \"offset\" key-value pair in url_params\n",
    "    url_params[\"limit\"] = offset\n",
    "    \n",
    "    # Make the query and get the response\n",
    "    response = requests.get(url, headers=headers, params=url_params)\n",
    "    print(response)\n",
    "    time.sleep(1)\n",
    "    # Get the response body in JSON format\n",
    "    response_json = response.json()\n",
    "    \n",
    "    # Get the list of businesses from the response_json\n",
    "    businesses = response_json['businesses']\n",
    "    \n",
    "    # Call the prepare_data function to get a list of processed data\n",
    "    prepared_businesses = prepare_data(businesses)\n",
    "    \n",
    "    # Extend full_dataset with this list (don't append, or you'll get\n",
    "    # a list of lists instead of a flat list)\n",
    "    for x in prepared_businesses:\n",
    "        full_dataset.append(x)\n",
    "\n",
    "# Check the length of the full dataset. It will be up to `total`,\n",
    "# potentially less if there were missing values\n",
    "len(full_dataset)\n",
    "\n",
    "# Kept get a 400 response on my 3rd call \n"
   ]
  },
  {
   "cell_type": "code",
   "execution_count": 56,
   "metadata": {},
   "outputs": [
    {
     "data": {
      "text/plain": [
       "20"
      ]
     },
     "execution_count": 56,
     "metadata": {},
     "output_type": "execute_result"
    }
   ],
   "source": [
    "full_dataset\n",
    "\n",
    "\n",
    "longitude_count = []\n",
    "lat_count = []\n",
    "\n",
    "for entry in full_dataset:\n",
    "    longitude_count.append(entry['longitude'])\n",
    "    lat_count.append(entry['latitude'])\n",
    "    \n",
    "avg_long = (sum(longitude_count)/len(longitude_count))\n",
    "avg_lat = (sum(lat_count)/len(lat_count))\n",
    "\n",
    "num_business = len(full_dataset)\n",
    "num_business"
   ]
  },
  {
   "cell_type": "markdown",
   "metadata": {},
   "source": [
    "This code may take up to a few minutes to run.\n",
    "\n",
    "If you get an error trying to get the response body in JSON format, try adding `time.sleep(1)` right after the `requests.get` line, so your code will sleep for 1 second between each API call."
   ]
  },
  {
   "cell_type": "markdown",
   "metadata": {},
   "source": [
    "## 3. Perform Exploratory Analysis\n",
    "\n",
    "Take the businesses from the previous question and do an initial exploratory analysis. We have provided some plots for you to interpret:"
   ]
  },
  {
   "cell_type": "code",
   "execution_count": 57,
   "metadata": {},
   "outputs": [
    {
     "data": {
      "image/png": "[encoded data removed]",
      "text/plain": [
       "<Figure size 1152x360 with 3 Axes>"
      ]
     },
     "metadata": {
      "needs_background": "light"
     },
     "output_type": "display_data"
    }
   ],
   "source": [
    "# Run this cell without changes\n",
    "from collections import Counter\n",
    "import matplotlib.pyplot as plt\n",
    "%matplotlib inline\n",
    "\n",
    "fig, (ax1, ax2, ax3) = plt.subplots(ncols=3, figsize=(16, 5))\n",
    "\n",
    "# Plot distribution of number of reviews\n",
    "all_review_counts = [x[\"review_count\"] for x in full_dataset]\n",
    "ax1.hist(all_review_counts)\n",
    "ax1.set_title(\"Review Count Distribution\")\n",
    "ax1.set_xlabel(\"Number of Reviews\")\n",
    "ax1.set_ylabel(\"Number of Businesses\")\n",
    "\n",
    "# Plot rating distribution\n",
    "all_ratings = [x[\"rating\"] for x in full_dataset]\n",
    "rating_counter = Counter(all_ratings)\n",
    "rating_keys = sorted(rating_counter.keys())\n",
    "ax2.bar(rating_keys, [rating_counter[key] for key in rating_keys])\n",
    "ax2.set_title(\"Rating Distribution\")\n",
    "ax2.set_xlabel(\"Rating\")\n",
    "ax2.set_ylabel(\"Number of Businesses\")\n",
    "\n",
    "# Plot price distribution\n",
    "all_prices = [x[\"price\"].replace(\"$\", r\"\\$\") for x in full_dataset]\n",
    "price_counter = Counter(all_prices)\n",
    "price_keys = sorted(price_counter.keys())\n",
    "ax3.bar(price_keys, [price_counter[key] for key in price_keys])\n",
    "ax3.set_title(\"Price Distribution\")\n",
    "ax3.set_xlabel(\"Price Category\")\n",
    "ax3.set_ylabel(\"Number of Businesses\");"
   ]
  },
  {
   "cell_type": "markdown",
   "metadata": {},
   "source": [
    "Describe the distributions displayed above and interpret them in the context of your query. (Your answer may differ from the solution branch depending on your query.)"
   ]
  },
  {
   "cell_type": "code",
   "execution_count": 58,
   "metadata": {},
   "outputs": [
    {
     "data": {
      "text/plain": [
       "'\\nout of our 20 businesses most had a rating of 4, with a $$ price category\\n\\n'"
      ]
     },
     "execution_count": 58,
     "metadata": {},
     "output_type": "execute_result"
    }
   ],
   "source": [
    "# Replace None with appropriate text\n",
    "\"\"\"\n",
    "out of our 20 businesses most had a rating of 4, with a $$ price category\n",
    "\n",
    "\"\"\""
   ]
  },
  {
   "cell_type": "markdown",
   "metadata": {},
   "source": [
    "In the cell below, we also plot the rating distributions by price. In this setup, a price of one dollar sign is \"lower price\" and everything else is \"higher price\"."
   ]
  },
  {
   "cell_type": "code",
   "execution_count": 59,
   "metadata": {},
   "outputs": [
    {
     "data": {
      "image/png": "[encoded data removed]",
      "text/plain": [
       "<Figure size 432x288 with 1 Axes>"
      ]
     },
     "metadata": {
      "needs_background": "light"
     },
     "output_type": "display_data"
    }
   ],
   "source": [
    "# Run this cell without changes\n",
    "\n",
    "higher_price = []\n",
    "lower_price = []\n",
    "for row in full_dataset:\n",
    "    if row[\"price\"] == \"$\":\n",
    "        lower_price.append(row[\"rating\"])\n",
    "    else:\n",
    "        higher_price.append(row[\"rating\"])\n",
    "        \n",
    "fig, ax = plt.subplots()\n",
    "\n",
    "ax.hist([higher_price, lower_price], label=[\"higher price\", \"lower price\"], density=True)\n",
    "\n",
    "ax.legend();"
   ]
  },
  {
   "cell_type": "markdown",
   "metadata": {},
   "source": [
    "Is a higher price associated with a higher rating? (No need for any additional math/statistics, just interpret what you see in the plot.)"
   ]
  },
  {
   "cell_type": "code",
   "execution_count": 60,
   "metadata": {},
   "outputs": [
    {
     "data": {
      "text/plain": [
       "'\\nseems that higher price tended to have higher ratings\\n'"
      ]
     },
     "execution_count": 60,
     "metadata": {},
     "output_type": "execute_result"
    }
   ],
   "source": [
    "# Replace None with appropriate text\n",
    "\"\"\"\n",
    "seems that higher price tended to have higher ratings\n",
    "\"\"\""
   ]
  },
  {
   "cell_type": "markdown",
   "metadata": {},
   "source": [
    "Finally, let's look at ratings vs. review counts:"
   ]
  },
  {
   "cell_type": "code",
   "execution_count": 61,
   "metadata": {},
   "outputs": [
    {
     "data": {
      "image/png": "[encoded data removed]",
      "text/plain": [
       "<Figure size 1152x360 with 1 Axes>"
      ]
     },
     "metadata": {
      "needs_background": "light"
     },
     "output_type": "display_data"
    }
   ],
   "source": [
    "# Run this cell without changes\n",
    "fig, ax = plt.subplots(figsize=(16,5))\n",
    "\n",
    "ax.scatter(all_review_counts, all_ratings, alpha=0.2)\n",
    "ax.set_xlabel(\"Number of Reviews\")\n",
    "ax.set_ylabel(\"Rating\")\n",
    "# \"zoom in\" to a subset of review counts\n",
    "ax.set_xlim(left=0, right=1000);"
   ]
  },
  {
   "cell_type": "markdown",
   "metadata": {},
   "source": [
    "Is a higher number of reviews associated with a higher rating?"
   ]
  },
  {
   "cell_type": "code",
   "execution_count": 62,
   "metadata": {},
   "outputs": [
    {
     "data": {
      "text/plain": [
       "'\\naround the 200 mark we had highest ratings although the 700 reviews had second highest rating\\n'"
      ]
     },
     "execution_count": 62,
     "metadata": {},
     "output_type": "execute_result"
    }
   ],
   "source": [
    "# Replace None with appropriate text\n",
    "\"\"\"\n",
    "around the 200 mark we had highest ratings although the 700 reviews had second highest rating\n",
    "\"\"\""
   ]
  },
  {
   "cell_type": "markdown",
   "metadata": {},
   "source": [
    "## 4. Create a Folium Map\n",
    "\n",
    "Make a map using Folium of the businesses you retrieved. Be sure to also add popups to the markers giving some basic information such as name, rating and price.\n",
    "\n",
    "You can center the map around the latitude and longitude of the first item in `full_dataset`."
   ]
  },
  {
   "cell_type": "code",
   "execution_count": 65,
   "metadata": {},
   "outputs": [
    {
     "data": {
      "text/html": [
       "<div style=\"width:100%;\"><div style=\"position:relative;width:100%;height:0;padding-bottom:60%;\"><span style=\"color:#565656\">Make this Notebook Trusted to load map: File -> Trust Notebook</span><iframe src=\"about:blank\" style=\"position:absolute;width:100%;height:100%;left:0;top:0;border:none !important;\" data-html=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 onload=\"this.contentDocument.open();this.contentDocument.write(atob(this.getAttribute('data-html')));this.contentDocument.close();\" allowfullscreen webkitallowfullscreen mozallowfullscreen></iframe></div></div>"
      ],
      "text/plain": [
       "<folium.folium.Map at 0x227d0e2e100>"
      ]
     },
     "execution_count": 65,
     "metadata": {},
     "output_type": "execute_result"
    }
   ],
   "source": [
    "# Replace None with appropriate code\n",
    "\n",
    "# Import the library\n",
    "import folium\n",
    "\n",
    "\n",
    "# Set up center latitude and longitude\n",
    "center_lat = avg_lat\n",
    "center_long = avg_long\n",
    "\n",
    "# Initialize map with center lat and long\n",
    "yelp_map = folium.Map([center_lat, center_long], zoom_start = 12)\n",
    "\n",
    "# Adjust this limit to see more or fewer businesses\n",
    "limit=100\n",
    "\n",
    "for business in full_dataset[:num_business-1]:\n",
    "    # Extract information about business\n",
    "    lat = business['latitude']\n",
    "    long = business['longitude']\n",
    "    name = business['name']\n",
    "    rating = business['rating']\n",
    "    price = business['price']\n",
    "    details = \"{}\\nPrice: {} Rating:{}\".format(name,price,rating)\n",
    "    \n",
    "    # Create popup with relevant details\n",
    "    popup = folium.Popup(details, parse_html=True)\n",
    "    \n",
    "    # Create marker with relevant lat/long and popup\n",
    "    marker = folium.Marker(location=[lat, long], popup=popup)\n",
    "    \n",
    "    marker.add_to(yelp_map)\n",
    "    \n",
    "yelp_map"
   ]
  },
  {
   "cell_type": "markdown",
   "metadata": {},
   "source": [
    "## Summary\n",
    "\n",
    "Nice work! In this lab, you've made multiple API calls to Yelp in order to paginate through a results set, performing some basic exploratory analysis and then creating a nice interactive map to display the results using Folium! Well done!"
   ]
  }
 ],
 "metadata": {
  "kernelspec": {
   "display_name": "Python 3",
   "language": "python",
   "name": "python3"
  },
  "language_info": {
   "codemirror_mode": {
    "name": "ipython",
    "version": 3
   },
   "file_extension": ".py",
   "mimetype": "text/x-python",
   "name": "python",
   "nbconvert_exporter": "python",
   "pygments_lexer": "ipython3",
   "version": "3.8.5"
  },
  "toc": {
   "base_numbering": 1,
   "nav_menu": {},
   "number_sections": true,
   "sideBar": true,
   "skip_h1_title": false,
   "title_cell": "Table of Contents",
   "title_sidebar": "Contents",
   "toc_cell": false,
   "toc_position": {},
   "toc_section_display": true,
   "toc_window_display": false
  }
 },
 "nbformat": 4,
 "nbformat_minor": 2
}
